{
  "nbformat": 4,
  "nbformat_minor": 0,
  "metadata": {
    "colab": {
      "provenance": [],
      "authorship_tag": "ABX9TyNS4JUNH6PxlAd9T46zICVw",
      "include_colab_link": true
    },
    "kernelspec": {
      "name": "python3",
      "display_name": "Python 3"
    },
    "language_info": {
      "name": "python"
    }
  },
  "cells": [
    {
      "cell_type": "markdown",
      "metadata": {
        "id": "view-in-github",
        "colab_type": "text"
      },
      "source": [
        "<a href=\"https://colab.research.google.com/github/Venkatpotla33/Algorithm-and-Analysis-lab/blob/master/Algorithms_Lab_06.ipynb\" target=\"_parent\"><img src=\"https://colab.research.google.com/assets/colab-badge.svg\" alt=\"Open In Colab\"/></a>"
      ]
    },
    {
      "cell_type": "code",
      "execution_count": null,
      "metadata": {
        "id": "LEKWw3Mr1wP6",
        "colab": {
          "base_uri": "https://localhost:8080/"
        },
        "outputId": "b74cac39-9549-4d6f-be7f-4912922e1cb8"
      },
      "outputs": [
        {
          "output_type": "stream",
          "name": "stdout",
          "text": [
            "Is subset1 independent? True\n",
            "Is subset2 independent? False\n",
            "Is subset3 independent? True\n"
          ]
        }
      ],
      "source": [
        "# A simple Union-Find (DSU) implementation\n",
        "class UnionFind:\n",
        "    def __init__(self, n):\n",
        "        # Each node is its own parent initially\n",
        "        self.parent = list(range(n))\n",
        "\n",
        "    def find(self, i):\n",
        "        # Find the root of the set containing element i\n",
        "        if self.parent[i] == i:\n",
        "            return i\n",
        "        # Path compression for efficiency\n",
        "        self.parent[i] = self.find(self.parent[i])\n",
        "        return self.parent[i]\n",
        "\n",
        "    def union(self, i, j):\n",
        "        # Union of the sets containing i and j\n",
        "        root_i = self.find(i)\n",
        "        root_j = self.find(j)\n",
        "        if root_i != root_j:\n",
        "            self.parent[root_i] = root_j\n",
        "            return True # Union was successful\n",
        "        return False # i and j were already in the same set (a cycle is formed)\n",
        "\n",
        "class GraphicMatroid:\n",
        "    \"\"\"\n",
        "    Implements an independence oracle for a graphic matroid.\n",
        "    \"\"\"\n",
        "    def __init__(self, num_vertices, edges):\n",
        "        \"\"\"\n",
        "        Args:\n",
        "            num_vertices (int): The number of vertices in the graph (e.g., V).\n",
        "            edges (list of tuples): The list of all edges in the graph, where\n",
        "                                   each edge is a tuple (u, v) of vertices.\n",
        "                                   This is the ground set E.\n",
        "        \"\"\"\n",
        "        self.num_vertices = num_vertices\n",
        "        self.ground_set = edges\n",
        "\n",
        "    def is_independent(self, edge_subset):\n",
        "        \"\"\"\n",
        "        The independence oracle. Checks if a given subset of edges forms a forest\n",
        "        (i.e., contains no cycles).\n",
        "\n",
        "        Args:\n",
        "            edge_subset (list of tuples): A subset of edges from the ground set.\n",
        "\n",
        "        Returns:\n",
        "            bool: True if the subset is independent (acyclic), False otherwise.\n",
        "        \"\"\"\n",
        "        uf = UnionFind(self.num_vertices)\n",
        "        for u, v in edge_subset:\n",
        "            # If find(u) == find(v), adding this edge would form a cycle\n",
        "            # because u and v are already connected.\n",
        "            if not uf.union(u, v):\n",
        "                return False # Cycle detected, so the set is dependent\n",
        "        return True # No cycles found, the set is independent\n",
        "\n",
        "# --- Usage Example ---\n",
        "# A graph with 4 vertices and 5 edges\n",
        "# Edges are (0,1), (0,2), (1,2), (1,3), (2,3)\n",
        "V = 4\n",
        "E = [(0, 1), (0, 2), (1, 2), (1, 3), (2, 3)]\n",
        "\n",
        "matroid = GraphicMatroid(V, E)\n",
        "\n",
        "# Test some subsets\n",
        "subset1 = [(0, 1), (0, 2)] # Independent (forms a small tree)\n",
        "subset2 = [(0, 1), (1, 2), (0, 2)] # Dependent (forms a cycle 0-1-2-0)\n",
        "subset3 = [(0, 1), (1, 3), (2, 3)] # Independent (a spanning tree, which is a basis)\n",
        "\n",
        "print(f\"Is subset1 independent? {matroid.is_independent(subset1)}\") # Expected: True\n",
        "print(f\"Is subset2 independent? {matroid.is_independent(subset2)}\") # Expected: False\n",
        "print(f\"Is subset3 independent? {matroid.is_independent(subset3)}\") # Expected: True"
      ]
    },
    {
      "cell_type": "code",
      "source": [
        "def BFS ( graph , V , src ) :\n",
        " visited = [ False ]* V\n",
        " queue = []\n",
        " queue . append ( src )\n",
        " visited [ src ] = True\n",
        " path = []\n",
        " while queue :\n",
        "  u = queue . pop (0)\n",
        "  path . append ( u )\n",
        "  for v in graph [ u ]:\n",
        "   if not visited [ v ]:\n",
        "    queue . append ( v )\n",
        "    visited [ v ] = True\n",
        " return path\n",
        "\n",
        "graph = {0:[1 ,2] , 1:[3] , 2:[4 ,5] , 3:[] , 4:[] , 5:[]}\n",
        "V = 6\n",
        "src = 0\n",
        "print ( BFS ( graph , V , src ) )\n"
      ],
      "metadata": {
        "colab": {
          "base_uri": "https://localhost:8080/"
        },
        "id": "Q37T6VGu45w2",
        "outputId": "a2d99a74-c1cf-4bc9-beac-3a7a5c03466e"
      },
      "execution_count": null,
      "outputs": [
        {
          "output_type": "stream",
          "name": "stdout",
          "text": [
            "[0, 1, 2, 3, 4, 5]\n"
          ]
        }
      ]
    },
    {
      "cell_type": "code",
      "source": [
        "def DFS(graph, V, src):\n",
        " visited = [False]*V\n",
        " stack = []\n",
        " stack.append(src)\n",
        " visited[src] = True\n",
        " path = []\n",
        " while stack:\n",
        "  u = stack.pop(-1)\n",
        "  path.append(u)\n",
        "  for v in graph[u]:\n",
        "   if not visited[v]:\n",
        "    stack.append(v)\n",
        "    visited[v] = True\n",
        " return path\n",
        "graph = {0:[1,2], 1:[3,4], 2:[5], 3:[], 4:[], 5:[]}\n",
        "V = 6\n",
        "src = 0\n",
        "print(DFS(graph, V, src))"
      ],
      "metadata": {
        "colab": {
          "base_uri": "https://localhost:8080/"
        },
        "id": "tmxoZ29M_Sq9",
        "outputId": "8e52cbe0-90c7-49ba-e5cc-4e4c8b75735c"
      },
      "execution_count": null,
      "outputs": [
        {
          "output_type": "stream",
          "name": "stdout",
          "text": [
            "[0, 2, 5, 1, 4, 3]\n"
          ]
        }
      ]
    }
  ]
}