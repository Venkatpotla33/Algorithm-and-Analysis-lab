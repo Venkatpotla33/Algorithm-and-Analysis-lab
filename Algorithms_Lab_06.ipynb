{
  "nbformat": 4,
  "nbformat_minor": 0,
  "metadata": {
    "colab": {
      "provenance": [],
      "authorship_tag": "ABX9TyOMQ6edSvYeUjubsPLMn7pn",
      "include_colab_link": true
    },
    "kernelspec": {
      "name": "python3",
      "display_name": "Python 3"
    },
    "language_info": {
      "name": "python"
    }
  },
  "cells": [
    {
      "cell_type": "markdown",
      "metadata": {
        "id": "view-in-github",
        "colab_type": "text"
      },
      "source": [
        "<a href=\"https://colab.research.google.com/github/Venkatpotla33/Algorithm-and-Analysis-lab/blob/master/Algorithms_Lab_06.ipynb\" target=\"_parent\"><img src=\"https://colab.research.google.com/assets/colab-badge.svg\" alt=\"Open In Colab\"/></a>"
      ]
    },
    {
      "cell_type": "code",
      "execution_count": 1,
      "metadata": {
        "id": "LEKWw3Mr1wP6",
        "colab": {
          "base_uri": "https://localhost:8080/"
        },
        "outputId": "32a1aedc-917d-4bd9-9746-1f9ba32e190a"
      },
      "outputs": [
        {
          "output_type": "stream",
          "name": "stdout",
          "text": [
            "venkat\n"
          ]
        }
      ],
      "source": [
        "print('venkat')"
      ]
    }
  ]
}